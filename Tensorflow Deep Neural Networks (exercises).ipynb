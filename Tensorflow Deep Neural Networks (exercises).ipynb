{
 "cells": [
  {
   "cell_type": "markdown",
   "id": "0f1aba5b",
   "metadata": {},
   "source": [
    "## Training a deep neural network on the CIFAR10 image dataset"
   ]
  },
  {
   "cell_type": "code",
   "execution_count": 1,
   "id": "311d061b",
   "metadata": {},
   "outputs": [],
   "source": [
    "import tensorflow as tf\n",
    "\n",
    "cifar10 = tf.keras.datasets.cifar10.load_data()"
   ]
  },
  {
   "cell_type": "code",
   "execution_count": 2,
   "id": "56195a25",
   "metadata": {},
   "outputs": [],
   "source": [
    "X_train = cifar10[0][0]\n",
    "y_train = cifar10[0][1]\n",
    "X_test = cifar10[1][0]\n",
    "y_test = cifar10[1][1]"
   ]
  },
  {
   "cell_type": "code",
   "execution_count": 3,
   "id": "e266e976",
   "metadata": {},
   "outputs": [],
   "source": [
    "import os\n",
    "\n",
    "my_logs = os.path.join(os.curdir, 'my_logs')\n",
    "root_logdir = os.path.join(my_logs, 'DNN_CIFAR10')"
   ]
  },
  {
   "cell_type": "code",
   "execution_count": 4,
   "id": "6fcfe0db",
   "metadata": {},
   "outputs": [],
   "source": [
    "def get_run_logdir():\n",
    "    import time\n",
    "    run_id = time.strftime(\"run_%Y_%m_%d_%H_%M_%S\")\n",
    "    return os.path.join(root_logdir, run_id)"
   ]
  },
  {
   "cell_type": "code",
   "execution_count": 5,
   "id": "d5c266ee",
   "metadata": {},
   "outputs": [],
   "source": [
    "run_logdir = get_run_logdir()"
   ]
  },
  {
   "cell_type": "code",
   "execution_count": 6,
   "id": "641fad2e",
   "metadata": {},
   "outputs": [
    {
     "name": "stdout",
     "output_type": "stream",
     "text": [
      "Metal device set to: Apple M1\n"
     ]
    },
    {
     "name": "stderr",
     "output_type": "stream",
     "text": [
      "2022-09-14 00:08:03.478790: I tensorflow/core/common_runtime/pluggable_device/pluggable_device_factory.cc:305] Could not identify NUMA node of platform GPU ID 0, defaulting to 0. Your kernel may not have been built with NUMA support.\n",
      "2022-09-14 00:08:03.479281: I tensorflow/core/common_runtime/pluggable_device/pluggable_device_factory.cc:271] Created TensorFlow device (/job:localhost/replica:0/task:0/device:GPU:0 with 0 MB memory) -> physical PluggableDevice (device: 0, name: METAL, pci bus id: <undefined>)\n"
     ]
    }
   ],
   "source": [
    "from keras import layers\n",
    "import keras\n",
    "\n",
    "model = keras.models.Sequential()\n",
    "model.add(layers.Flatten())\n",
    "model.add(layers.LayerNormalization())\n",
    "model.add(layers.Dropout(0.2))\n",
    "for layer in range(20):\n",
    "    model.add(layers.Dense(100, activation='selu', kernel_initializer='lecun_normal'))\n",
    "model.add(layers.Dense(10, activation='softmax'))\n",
    "nadam_opt = keras.optimizers.Nadam(learning_rate=1e-4)\n",
    "model.compile(loss='sparse_categorical_crossentropy',\n",
    "             optimizer=nadam_opt,\n",
    "             metrics=['accuracy'])\n",
    "model.build(input_shape=[50000,32,32,3])"
   ]
  },
  {
   "cell_type": "code",
   "execution_count": 7,
   "id": "8458a877",
   "metadata": {
    "scrolled": false
   },
   "outputs": [
    {
     "name": "stdout",
     "output_type": "stream",
     "text": [
      "Epoch 1/10\n"
     ]
    },
    {
     "name": "stderr",
     "output_type": "stream",
     "text": [
      "2022-09-14 00:08:05.141946: W tensorflow/core/platform/profile_utils/cpu_utils.cc:128] Failed to get CPU frequency: 0 Hz\n",
      "2022-09-14 00:08:06.369914: I tensorflow/core/grappler/optimizers/custom_graph_optimizer_registry.cc:113] Plugin optimizer for device_type GPU is enabled.\n"
     ]
    },
    {
     "name": "stdout",
     "output_type": "stream",
     "text": [
      "1563/1563 [==============================] - ETA: 0s - loss: 1.8433 - accuracy: 0.3420"
     ]
    },
    {
     "name": "stderr",
     "output_type": "stream",
     "text": [
      "2022-09-14 00:09:21.444289: I tensorflow/core/grappler/optimizers/custom_graph_optimizer_registry.cc:113] Plugin optimizer for device_type GPU is enabled.\n"
     ]
    },
    {
     "name": "stdout",
     "output_type": "stream",
     "text": [
      "1563/1563 [==============================] - 81s 50ms/step - loss: 1.8433 - accuracy: 0.3420 - val_loss: 1.6800 - val_accuracy: 0.4079\n",
      "Epoch 2/10\n",
      "1563/1563 [==============================] - 76s 49ms/step - loss: 1.6482 - accuracy: 0.4166 - val_loss: 1.6064 - val_accuracy: 0.4288\n",
      "Epoch 3/10\n",
      "1563/1563 [==============================] - 78s 50ms/step - loss: 1.5566 - accuracy: 0.4496 - val_loss: 1.5558 - val_accuracy: 0.4511\n",
      "Epoch 4/10\n",
      "1563/1563 [==============================] - 76s 49ms/step - loss: 1.4863 - accuracy: 0.4738 - val_loss: 1.5387 - val_accuracy: 0.4481\n",
      "Epoch 5/10\n",
      "1563/1563 [==============================] - 79s 50ms/step - loss: 1.4314 - accuracy: 0.4940 - val_loss: 1.4981 - val_accuracy: 0.4719\n",
      "Epoch 6/10\n",
      "1563/1563 [==============================] - 81s 52ms/step - loss: 1.3829 - accuracy: 0.5110 - val_loss: 1.4942 - val_accuracy: 0.4658\n",
      "Epoch 7/10\n",
      "1563/1563 [==============================] - 75s 48ms/step - loss: 1.3373 - accuracy: 0.5264 - val_loss: 1.4730 - val_accuracy: 0.4822\n",
      "Epoch 8/10\n",
      "1563/1563 [==============================] - 84s 54ms/step - loss: 1.2961 - accuracy: 0.5420 - val_loss: 1.4618 - val_accuracy: 0.4940\n",
      "Epoch 9/10\n",
      "1563/1563 [==============================] - 77s 49ms/step - loss: 1.2617 - accuracy: 0.5548 - val_loss: 1.4676 - val_accuracy: 0.4912\n",
      "Epoch 10/10\n",
      "1563/1563 [==============================] - 84s 54ms/step - loss: 1.2232 - accuracy: 0.5669 - val_loss: 1.4599 - val_accuracy: 0.4937\n"
     ]
    },
    {
     "data": {
      "text/plain": [
       "<keras.callbacks.History at 0x17fce8fa0>"
      ]
     },
     "execution_count": 7,
     "metadata": {},
     "output_type": "execute_result"
    }
   ],
   "source": [
    "callbacks = [keras.callbacks.EarlyStopping(monitor='val_accuracy', patience=2), keras.callbacks.TensorBoard(run_logdir)]\n",
    "model.fit(X_train, y_train, epochs=10, validation_data=(X_test, y_test), callbacks=callbacks)"
   ]
  },
  {
   "cell_type": "code",
   "execution_count": 42,
   "id": "670c2db4",
   "metadata": {
    "scrolled": true
   },
   "outputs": [
    {
     "data": {
      "text/plain": [
       "Reusing TensorBoard on port 6006 (pid 1188), started 1:16:00 ago. (Use '!kill 1188' to kill it.)"
      ]
     },
     "metadata": {},
     "output_type": "display_data"
    },
    {
     "data": {
      "text/html": [
       "\n",
       "      <iframe id=\"tensorboard-frame-507dd765f886d70a\" width=\"100%\" height=\"800\" frameborder=\"0\">\n",
       "      </iframe>\n",
       "      <script>\n",
       "        (function() {\n",
       "          const frame = document.getElementById(\"tensorboard-frame-507dd765f886d70a\");\n",
       "          const url = new URL(\"/\", window.location);\n",
       "          const port = 6006;\n",
       "          if (port) {\n",
       "            url.port = port;\n",
       "          }\n",
       "          frame.src = url;\n",
       "        })();\n",
       "      </script>\n",
       "    "
      ],
      "text/plain": [
       "<IPython.core.display.HTML object>"
      ]
     },
     "metadata": {},
     "output_type": "display_data"
    }
   ],
   "source": [
    "%reload_ext tensorboard\n",
    "%tensorboard --logdir=./my_logs --port=6006"
   ]
  },
  {
   "cell_type": "code",
   "execution_count": null,
   "id": "f5bacac9",
   "metadata": {},
   "outputs": [],
   "source": []
  }
 ],
 "metadata": {
  "kernelspec": {
   "display_name": "Python 3 (ipykernel)",
   "language": "python",
   "name": "python3"
  },
  "language_info": {
   "codemirror_mode": {
    "name": "ipython",
    "version": 3
   },
   "file_extension": ".py",
   "mimetype": "text/x-python",
   "name": "python",
   "nbconvert_exporter": "python",
   "pygments_lexer": "ipython3",
   "version": "3.9.13"
  }
 },
 "nbformat": 4,
 "nbformat_minor": 5
}
