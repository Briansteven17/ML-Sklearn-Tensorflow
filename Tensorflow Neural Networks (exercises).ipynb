{
 "cells": [
  {
   "cell_type": "markdown",
   "id": "f76b3dbd",
   "metadata": {},
   "source": [
    "## Train a deep MLP on the MNIST dataset and get over 98% accuracy"
   ]
  },
  {
   "cell_type": "code",
   "execution_count": 1,
   "id": "2d6867ab",
   "metadata": {},
   "outputs": [],
   "source": [
    "from keras.datasets.mnist import load_data\n",
    "\n",
    "mnist = load_data()\n",
    "X_train = mnist[0][0]\n",
    "y_train = mnist[0][1]\n",
    "X_test = mnist[1][0]\n",
    "y_test = mnist[1][1]"
   ]
  },
  {
   "cell_type": "code",
   "execution_count": 2,
   "id": "f314a9f8",
   "metadata": {},
   "outputs": [
    {
     "data": {
      "text/plain": [
       "10"
      ]
     },
     "execution_count": 2,
     "metadata": {},
     "output_type": "execute_result"
    }
   ],
   "source": [
    "import numpy as np\n",
    "\n",
    "len(np.unique(y_train))"
   ]
  },
  {
   "cell_type": "code",
   "execution_count": 3,
   "id": "1710ed43",
   "metadata": {},
   "outputs": [
    {
     "name": "stdout",
     "output_type": "stream",
     "text": [
      "Metal device set to: Apple M1\n"
     ]
    },
    {
     "name": "stderr",
     "output_type": "stream",
     "text": [
      "2022-09-04 13:59:37.258911: I tensorflow/core/common_runtime/pluggable_device/pluggable_device_factory.cc:305] Could not identify NUMA node of platform GPU ID 0, defaulting to 0. Your kernel may not have been built with NUMA support.\n",
      "2022-09-04 13:59:37.259216: I tensorflow/core/common_runtime/pluggable_device/pluggable_device_factory.cc:271] Created TensorFlow device (/job:localhost/replica:0/task:0/device:GPU:0 with 0 MB memory) -> physical PluggableDevice (device: 0, name: METAL, pci bus id: <undefined>)\n"
     ]
    },
    {
     "data": {
      "text/plain": [
       "<tf.Tensor: shape=(), dtype=float32, numpy=0.09048374>"
      ]
     },
     "execution_count": 3,
     "metadata": {},
     "output_type": "execute_result"
    }
   ],
   "source": [
    "import tensorflow as tf\n",
    "test = 0.1\n",
    "test = test * tf.math.exp(-0.1) \n",
    "test"
   ]
  },
  {
   "cell_type": "code",
   "execution_count": 4,
   "id": "5e7e987d",
   "metadata": {},
   "outputs": [],
   "source": [
    "import keras\n",
    "from keras import layers\n",
    "\n",
    "model = keras.models.Sequential()\n",
    "model.add(layers.convolutional.Conv2D(input_shape=(28,28,1),activation='relu', filters=28, kernel_size=3))\n",
    "model.add(layers.MaxPool2D(3))\n",
    "model.add(layers.convolutional.Conv2D(activation='relu', filters=56, kernel_size=3))\n",
    "model.add(layers.MaxPool2D(3))\n",
    "model.add(layers.Flatten())\n",
    "model.add(layers.Dense(256, activation='sigmoid'))\n",
    "model.add(layers.Dense(128, activation='sigmoid'))\n",
    "model.add(layers.Dense(10, activation='softmax'))\n",
    "model.compile(loss='sparse_categorical_crossentropy',\n",
    "              optimizer='SGD',\n",
    "              metrics=['accuracy'])"
   ]
  },
  {
   "cell_type": "code",
   "execution_count": 5,
   "id": "66b6dd89",
   "metadata": {},
   "outputs": [],
   "source": [
    "import os\n",
    "\n",
    "my_logs = os.path.join(os.curdir, 'my_logs')\n",
    "root_logdir = os.path.join(my_logs, 'NN_MNIST')"
   ]
  },
  {
   "cell_type": "code",
   "execution_count": 6,
   "id": "457bfa7a",
   "metadata": {},
   "outputs": [],
   "source": [
    "def get_run_logdir():\n",
    "    import time\n",
    "    run_id = time.strftime(\"run_%Y_%m_%d_%H_%M_%S\")\n",
    "    return os.path.join(root_logdir, run_id)"
   ]
  },
  {
   "cell_type": "code",
   "execution_count": 7,
   "id": "123a2dda",
   "metadata": {},
   "outputs": [],
   "source": [
    "run_logdir = get_run_logdir()"
   ]
  },
  {
   "cell_type": "code",
   "execution_count": 8,
   "id": "283fe3bf",
   "metadata": {},
   "outputs": [
    {
     "name": "stdout",
     "output_type": "stream",
     "text": [
      "Epoch 1/20\n"
     ]
    },
    {
     "name": "stderr",
     "output_type": "stream",
     "text": [
      "2022-09-04 13:59:58.150907: W tensorflow/core/platform/profile_utils/cpu_utils.cc:128] Failed to get CPU frequency: 0 Hz\n",
      "2022-09-04 13:59:58.310071: I tensorflow/core/grappler/optimizers/custom_graph_optimizer_registry.cc:113] Plugin optimizer for device_type GPU is enabled.\n"
     ]
    },
    {
     "name": "stdout",
     "output_type": "stream",
     "text": [
      "1872/1875 [============================>.] - ETA: 0s - loss: 1.0519 - accuracy: 0.8379"
     ]
    },
    {
     "name": "stderr",
     "output_type": "stream",
     "text": [
      "2022-09-04 14:00:15.229025: I tensorflow/core/grappler/optimizers/custom_graph_optimizer_registry.cc:113] Plugin optimizer for device_type GPU is enabled.\n"
     ]
    },
    {
     "name": "stdout",
     "output_type": "stream",
     "text": [
      "1875/1875 [==============================] - 18s 10ms/step - loss: 1.0507 - accuracy: 0.8381 - val_loss: 0.3394 - val_accuracy: 0.9566\n",
      "Epoch 2/20\n",
      "1875/1875 [==============================] - 18s 10ms/step - loss: 0.2323 - accuracy: 0.9601 - val_loss: 0.1487 - val_accuracy: 0.9740\n",
      "Epoch 3/20\n",
      "1875/1875 [==============================] - 18s 10ms/step - loss: 0.1321 - accuracy: 0.9720 - val_loss: 0.0962 - val_accuracy: 0.9800\n",
      "Epoch 4/20\n",
      "1875/1875 [==============================] - 18s 10ms/step - loss: 0.0958 - accuracy: 0.9783 - val_loss: 0.0782 - val_accuracy: 0.9825\n",
      "Epoch 5/20\n",
      "1875/1875 [==============================] - 18s 10ms/step - loss: 0.0781 - accuracy: 0.9812 - val_loss: 0.0725 - val_accuracy: 0.9810\n",
      "Epoch 6/20\n",
      "1875/1875 [==============================] - 18s 10ms/step - loss: 0.0661 - accuracy: 0.9839 - val_loss: 0.0586 - val_accuracy: 0.9853\n",
      "Epoch 7/20\n",
      "1875/1875 [==============================] - 18s 10ms/step - loss: 0.0580 - accuracy: 0.9855 - val_loss: 0.0567 - val_accuracy: 0.9855\n",
      "Epoch 8/20\n",
      "1875/1875 [==============================] - 18s 10ms/step - loss: 0.0519 - accuracy: 0.9870 - val_loss: 0.0478 - val_accuracy: 0.9874\n",
      "Epoch 9/20\n",
      "1875/1875 [==============================] - 18s 10ms/step - loss: 0.0469 - accuracy: 0.9884 - val_loss: 0.0519 - val_accuracy: 0.9855\n",
      "Epoch 10/20\n",
      "1875/1875 [==============================] - 18s 10ms/step - loss: 0.0427 - accuracy: 0.9892 - val_loss: 0.0447 - val_accuracy: 0.9871\n",
      "Epoch 11/20\n",
      "1875/1875 [==============================] - 18s 10ms/step - loss: 0.0396 - accuracy: 0.9894 - val_loss: 0.0440 - val_accuracy: 0.9872\n",
      "Epoch 12/20\n",
      "1875/1875 [==============================] - 18s 10ms/step - loss: 0.0366 - accuracy: 0.9908 - val_loss: 0.0436 - val_accuracy: 0.9873\n",
      "Epoch 13/20\n",
      "1875/1875 [==============================] - 18s 10ms/step - loss: 0.0336 - accuracy: 0.9914 - val_loss: 0.0387 - val_accuracy: 0.9879\n",
      "Epoch 14/20\n",
      "1875/1875 [==============================] - 18s 10ms/step - loss: 0.0317 - accuracy: 0.9920 - val_loss: 0.0389 - val_accuracy: 0.9886\n",
      "Epoch 15/20\n",
      "1875/1875 [==============================] - 18s 10ms/step - loss: 0.0289 - accuracy: 0.9929 - val_loss: 0.0370 - val_accuracy: 0.9888\n",
      "Epoch 16/20\n",
      "1875/1875 [==============================] - 18s 10ms/step - loss: 0.0282 - accuracy: 0.9928 - val_loss: 0.0373 - val_accuracy: 0.9882\n",
      "Epoch 17/20\n",
      "1875/1875 [==============================] - 18s 10ms/step - loss: 0.0262 - accuracy: 0.9934 - val_loss: 0.0350 - val_accuracy: 0.9891\n",
      "Epoch 18/20\n",
      "1875/1875 [==============================] - 18s 10ms/step - loss: 0.0244 - accuracy: 0.9941 - val_loss: 0.0354 - val_accuracy: 0.9895\n",
      "Epoch 19/20\n",
      "1875/1875 [==============================] - 18s 10ms/step - loss: 0.0224 - accuracy: 0.9947 - val_loss: 0.0367 - val_accuracy: 0.9873\n",
      "Epoch 20/20\n",
      "1875/1875 [==============================] - 18s 10ms/step - loss: 0.0216 - accuracy: 0.9947 - val_loss: 0.0320 - val_accuracy: 0.9894\n"
     ]
    }
   ],
   "source": [
    "tensorboard_cb = keras.callbacks.TensorBoard(run_logdir)\n",
    "history = model.fit(X_train, y_train, epochs=20, validation_data=(X_test, y_test), callbacks=[tensorboard_cb])"
   ]
  },
  {
   "cell_type": "code",
   "execution_count": 9,
   "id": "50d01fc8",
   "metadata": {},
   "outputs": [
    {
     "data": {
      "text/html": [
       "\n",
       "      <iframe id=\"tensorboard-frame-c14da6ae3c30557\" width=\"100%\" height=\"800\" frameborder=\"0\">\n",
       "      </iframe>\n",
       "      <script>\n",
       "        (function() {\n",
       "          const frame = document.getElementById(\"tensorboard-frame-c14da6ae3c30557\");\n",
       "          const url = new URL(\"/\", window.location);\n",
       "          const port = 6006;\n",
       "          if (port) {\n",
       "            url.port = port;\n",
       "          }\n",
       "          frame.src = url;\n",
       "        })();\n",
       "      </script>\n",
       "    "
      ],
      "text/plain": [
       "<IPython.core.display.HTML object>"
      ]
     },
     "metadata": {},
     "output_type": "display_data"
    }
   ],
   "source": [
    "%load_ext tensorboard\n",
    "%tensorboard --logdir=./my_logs --port=6006"
   ]
  },
  {
   "cell_type": "code",
   "execution_count": 10,
   "id": "4450c131",
   "metadata": {},
   "outputs": [
    {
     "name": "stdout",
     "output_type": "stream",
     "text": [
      "0.9891833662986755 0.9871000647544861\n"
     ]
    }
   ],
   "source": [
    "History = model.history.history\n",
    "print(History['accuracy'][9], History['val_accuracy'][9])"
   ]
  },
  {
   "cell_type": "code",
   "execution_count": 11,
   "id": "12c7cc09",
   "metadata": {},
   "outputs": [
    {
     "data": {
      "text/plain": [
       "Text(0, 0.5, 'val_accuracy')"
      ]
     },
     "execution_count": 11,
     "metadata": {},
     "output_type": "execute_result"
    },
    {
     "data": {
      "image/png": "[encoded data removed]",
      "text/plain": [
       "<Figure size 432x288 with 1 Axes>"
      ]
     },
     "metadata": {
      "needs_background": "light"
     },
     "output_type": "display_data"
    }
   ],
   "source": [
    "import matplotlib.pyplot as plt\n",
    "\n",
    "plt.plot(History['accuracy'], History['val_accuracy'])\n",
    "plt.xlabel('accuracy')\n",
    "plt.ylabel('val_accuracy')"
   ]
  },
  {
   "cell_type": "code",
   "execution_count": 12,
   "id": "96185ab7",
   "metadata": {},
   "outputs": [
    {
     "data": {
      "text/plain": [
       "<matplotlib.image.AxesImage at 0x28d048af0>"
      ]
     },
     "execution_count": 12,
     "metadata": {},
     "output_type": "execute_result"
    },
    {
     "data": {
      "image/png": "[encoded data removed]",
      "text/plain": [
       "<Figure size 432x288 with 1 Axes>"
      ]
     },
     "metadata": {
      "needs_background": "light"
     },
     "output_type": "display_data"
    }
   ],
   "source": [
    "plt.imshow(X_train[0], cmap='binary')"
   ]
  },
  {
   "cell_type": "code",
   "execution_count": null,
   "id": "7c0460ad",
   "metadata": {},
   "outputs": [],
   "source": []
  }
 ],
 "metadata": {
  "kernelspec": {
   "display_name": "Python 3 (ipykernel)",
   "language": "python",
   "name": "python3"
  },
  "language_info": {
   "codemirror_mode": {
    "name": "ipython",
    "version": 3
   },
   "file_extension": ".py",
   "mimetype": "text/x-python",
   "name": "python",
   "nbconvert_exporter": "python",
   "pygments_lexer": "ipython3",
   "version": "3.9.13"
  }
 },
 "nbformat": 4,
 "nbformat_minor": 5
}
